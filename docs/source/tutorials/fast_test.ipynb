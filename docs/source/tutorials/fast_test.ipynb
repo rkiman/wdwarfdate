{
 "cells": [
  {
   "cell_type": "markdown",
   "metadata": {},
   "source": [
    "Customize the output plots\n",
    "======================"
   ]
  },
  {
   "cell_type": "markdown",
   "metadata": {},
   "source": [
    "In this tutorial we will show explicitly how to make the plots made by *wdwarfdate* and we are going to customize some. The goal of this tutorial is to provide code that is easy to modify to make our own versions of the plots."
   ]
  },
  {
   "cell_type": "code",
   "execution_count": 1,
   "metadata": {},
   "outputs": [],
   "source": [
    "import sys\n",
    "sys.path.append('/Users/rociokiman/Documents/wdwarfdate')\n",
    "import wdwarfdate  \n",
    "import numpy as np\n",
    "import time\n",
    "import matplotlib.pyplot as plt\n",
    "import corner"
   ]
  },
  {
   "cell_type": "markdown",
   "metadata": {},
   "source": [
    "Then we set up the effective temperature and surface gravity that *wdwarfdate* needs to run. The values used in this tutorial are from Cummings, J.D. et al. 2018. We are going to add a list called `compasion` with the results of the parameter estimation from that paper too,"
   ]
  },
  {
   "cell_type": "code",
   "execution_count": 2,
   "metadata": {},
   "outputs": [],
   "source": [
    "#Define data for the white dwarf\n",
    "teffs = 19250\n",
    "teffs_err = 500\n",
    "loggs = 8.16\n",
    "loggs_err = 0.084\n",
    "\n",
    "comparison = [0.570 - 0.115, #Main sequence age\n",
    "              0.115, # Cooling age (Gyr)\n",
    "              0.570,# Total age\n",
    "              2.99, # Initial mass\n",
    "              0.717 # Final mass\n",
    "              ]"
   ]
  },
  {
   "cell_type": "code",
   "execution_count": null,
   "metadata": {},
   "outputs": [
    {
     "name": "stdout",
     "output_type": "stream",
     "text": [
      "Running teff:19250 logg:8.16\n",
      "0 steps out of 1000\n"
     ]
    }
   ],
   "source": [
    "start = time.time()\n",
    "WD = wdwarfdate.WhiteDwarf(teffs,teffs_err,loggs,loggs_err,\n",
    "                           model_wd='DA',feh='p0.00',vvcrit='0.0',\n",
    "                           model_ifmr = 'Cummings_2018_MIST', \n",
    "                           high_perc = 84, low_perc = 16,\n",
    "                           datatype='yr', \n",
    "                           save_plots=False, display_plots=False)\n",
    "WD.calc_wd_age()\n",
    "end = time.time()\n",
    "print('{}m'.format((end - start)/60))"
   ]
  },
  {
   "cell_type": "markdown",
   "metadata": {},
   "source": [
    "Now we are going to make each plot separately."
   ]
  },
  {
   "cell_type": "markdown",
   "metadata": {},
   "source": [
    "1) \"results/teff_19250_logg_8.16_feh_p0.00_vvcrit_0.0_DA_Cummings_2018_MIST_walkers\": traces for each walker to confirm convergence. "
   ]
  },
  {
   "cell_type": "code",
   "execution_count": null,
   "metadata": {},
   "outputs": [],
   "source": [
    "labels = [r'$\\log_{10}(t_{\\rm ms}/{\\rm yr})$',\n",
    "          r'$\\log_{10}(t_{\\rm cool}/{\\rm yr})$', r'$\\Delta_{\\rm m}$']\n",
    "f, (ax1, ax2, ax3) = plt.subplots(1, 3, figsize=(8, 3))\n",
    "for ax, j, label in zip([ax1, ax2, ax3], range(3), labels):\n",
    "    for i in range(50):\n",
    "        ax.plot(WD.chain[i, :, j], color='k', alpha=0.05)\n",
    "        ax.axhline(y=np.median(WD.flat_samples[:, j]),\n",
    "                   color='tab:blue')\n",
    "    ax.set_ylabel(label)\n",
    "plt.tight_layout()\n",
    "plt.show()"
   ]
  },
  {
   "cell_type": "markdown",
   "metadata": {},
   "source": [
    "2) \"results/teff_19250_logg_8.16_feh_p0.00_vvcrit_0.0_DA_Cummings_2018_MIST_corner_plot.png\": corner plot for the three independent variables: main sequence age, cooling age and delta m."
   ]
  },
  {
   "cell_type": "code",
   "execution_count": null,
   "metadata": {},
   "outputs": [],
   "source": [
    "labels = [r'$\\log_{10}(t_{\\rm ms}/{\\rm yr})$',\n",
    "          r'$\\log_{10}(t_{\\rm cool}/{\\rm yr})$', r'$\\Delta _{\\rm m}$']\n",
    "\n",
    "fig = corner.corner(WD.flat_samples, labels=labels,\n",
    "                    quantiles=[.16, .50, .84],\n",
    "                    show_titles=True, title_kwargs={\"fontsize\": 12})\n",
    "plt.show()"
   ]
  },
  {
   "cell_type": "markdown",
   "metadata": {},
   "source": [
    "3) \"results/teff_19250_logg_8.16_feh_p0.00_vvcrit_0.0_DA_Cummings_2018_MIST_distributions.png\": distribution of all the parameter of the white dwarf: the sampled parameters (main sequence and cooling age) and the dependent parameters (final mass, initial mass and total age).\n",
    "\n",
    "For this plot we are going to add the comparison values as a red vertical line. We are also going to plot the results in Gyr, and not in yr. First we obtain the distributions from the code. "
   ]
  },
  {
   "cell_type": "code",
   "execution_count": null,
   "metadata": {},
   "outputs": [],
   "source": [
    "ln_ms_age, ln_cooling_age, ln_total_age, initial_mass, final_mass = WD.get_distributions()"
   ]
  },
  {
   "cell_type": "markdown",
   "metadata": {},
   "source": [
    "The default unit for the distributions of the three ages is $\\log_{10}({\\rm yr})$, so we are going to change it to Gyr."
   ]
  },
  {
   "cell_type": "code",
   "execution_count": null,
   "metadata": {},
   "outputs": [],
   "source": [
    "res_ms_age = (10 ** ln_ms_age)/1e9\n",
    "res_cool_age = (10 ** ln_cooling_age)/1e9 \n",
    "res_tot_age = (10 ** ln_total_age)/1e9"
   ]
  },
  {
   "cell_type": "markdown",
   "metadata": {},
   "source": [
    "Now we calculate the median, low and high percentiles again because we changed the units that we originally selected."
   ]
  },
  {
   "cell_type": "code",
   "execution_count": null,
   "metadata": {},
   "outputs": [],
   "source": [
    "results = wdwarfdate.calc_percentiles(res_ms_age, res_cool_age, res_tot_age,\n",
    "                                      initial_mass, final_mass,\n",
    "                                      WD.high_perc, WD.low_perc)"
   ]
  },
  {
   "cell_type": "markdown",
   "metadata": {},
   "source": [
    "And we have everything we need to plot the distributions."
   ]
  },
  {
   "cell_type": "code",
   "execution_count": null,
   "metadata": {},
   "outputs": [],
   "source": [
    "title = r\"${{{0:.2f}}}_{{-{1:.2f}}}^{{+{2:.2f}}}$\"\n",
    "f, (ax1, ax2, ax3, ax4, ax5) = plt.subplots(1, 5, figsize=(12, 3))\n",
    "\n",
    "axs = [ax1, ax2, ax3, ax4, ax5]\n",
    "\n",
    "labels = ['MS Age (Gyr)', 'Cooling Age (Gyr)', 'Total Age (Gyr)',\n",
    "          r'Initial Mass (M$\\odot$)', r'Final Mass (M$\\odot$)']\n",
    "\n",
    "distributions = [res_ms_age, res_cool_age, res_tot_age,initial_mass, final_mass]\n",
    "\n",
    "for ax, label, dist, i, comparison_i in zip(axs, labels, distributions, np.arange(0, 15, 3), comparison):\n",
    "    ax.hist(dist[~np.isnan(dist)], bins=20)\n",
    "    ax.axvline(x=results[i], color='k')\n",
    "    ax.axvline(x=results[i] - results[i+1], color='k', linestyle='--')\n",
    "    ax.axvline(x=results[i] + results[i+2], color='k', linestyle='--')\n",
    "    ax.axvline(x=comparison_i, color='r', linestyle='--')\n",
    "    ax.set_xlabel(label)\n",
    "    ax.yaxis.set_visible(False)\n",
    "    ax.set_title(title.format(np.round(results[i], 2),\n",
    "                              np.round(results[i+1], 2),\n",
    "                              np.round(results[i+2], 2)))\n",
    "plt.tight_layout()\n",
    "plt.show()"
   ]
  },
  {
   "cell_type": "markdown",
   "metadata": {},
   "source": [
    "4) \"results/teff_19250_logg_8.16_feh_p0.00_vvcrit_0.0_DA_Cummings_2018_MIST_corr_time.png\": result of the mean auto-correlation time for the three variables as explained in the tutorials for [autocorrelation time](https://emcee.readthedocs.io/en/stable/tutorials/autocorr/)  and [monitoring progress](https://emcee.readthedocs.io/en/stable/tutorials/monitor/) by Dan Foreman-Mackey."
   ]
  },
  {
   "cell_type": "code",
   "execution_count": null,
   "metadata": {},
   "outputs": [],
   "source": [
    "N = 100 * np.arange(1, WD.index_conv_i + 1)\n",
    "plt.plot(N, N / 100.0, \"--k\", label=r\"$\\tau = N/100$\")\n",
    "plt.loglog(N, WD.autocorr_i[:WD.index_conv_i], \"-\")\n",
    "plt.xlabel(\"number of samples, $N$\")\n",
    "plt.ylabel(r\"mean $\\hat{\\tau}$\")\n",
    "plt.legend(fontsize=14)\n",
    "plt.grid()\n",
    "plt.show()"
   ]
  },
  {
   "cell_type": "markdown",
   "metadata": {},
   "source": [
    "**Fast-test method**\n",
    "\n",
    "We can do the same for the results from the fast-test method. In this case we need to set `return_distributions=True`, so we can plot the distributions after."
   ]
  },
  {
   "cell_type": "code",
   "execution_count": null,
   "metadata": {},
   "outputs": [],
   "source": [
    "start = time.time()\n",
    "WD_2 = wdwarfdate.WhiteDwarf(teffs,teffs_err,loggs,loggs_err,\n",
    "                             method='fast_test',\n",
    "                             model_wd='DA',feh='p0.00',vvcrit='0.0',\n",
    "                             model_ifmr = 'Cummings_2018_MIST', \n",
    "                             high_perc = 84, low_perc = 16,\n",
    "                             datatype='yr', return_distributions=True,\n",
    "                             save_plots=False, display_plots=False)\n",
    "WD_2.calc_wd_age()\n",
    "end = time.time()\n",
    "print('{}m'.format((end - start)/60))"
   ]
  },
  {
   "cell_type": "markdown",
   "metadata": {},
   "source": [
    "In a similar way as before, we are going to transform the ages to Gyr. In this case the distributions are in yr. "
   ]
  },
  {
   "cell_type": "code",
   "execution_count": null,
   "metadata": {},
   "outputs": [],
   "source": [
    "res_ms_age2 = np.array(WD_2.distributions[0])/1e9 # Main sequence age\n",
    "res_cool_age2 = np.array(WD_2.distributions[1])/1e9 # Cooling age\n",
    "res_tot_age2 = np.array(WD_2.distributions[2])/1e9 # Total age\n",
    "initial_mass2 = np.array(WD_2.distributions[3])     # Initial mass\n",
    "final_mass2 = np.array(WD_2.distributions[4])     # Final mass\n",
    "results2 = wdwarfdate.calc_percentiles(res_ms_age2, res_cool_age2, res_tot_age2,\n",
    "                                       initial_mass2, final_mass2,\n",
    "                                       WD_2.high_perc, WD_2.low_perc)"
   ]
  },
  {
   "cell_type": "markdown",
   "metadata": {},
   "source": [
    "Once we have the distributions, the plots work in the same way as above. We are going to add the comparisons in this plot too."
   ]
  },
  {
   "cell_type": "code",
   "execution_count": null,
   "metadata": {},
   "outputs": [],
   "source": [
    "title = r\"${{{0:.2f}}}_{{-{1:.2f}}}^{{+{2:.2f}}}$\"\n",
    "f, (ax1, ax2, ax3, ax4, ax5) = plt.subplots(1, 5, figsize=(12, 3))\n",
    "\n",
    "axs = [ax1, ax2, ax3, ax4, ax5]\n",
    "\n",
    "labels = ['MS Age (Gyr)', 'Cooling Age (Gyr)', 'Total Age (Gyr)',\n",
    "          r'Initial Mass (M$\\odot$)', r'Final Mass (M$\\odot$)']\n",
    "\n",
    "distributions2 = [res_ms_age2, res_cool_age2, res_tot_age2,initial_mass2, final_mass2]\n",
    "\n",
    "for ax, label, dist, i, comparison_i in zip(axs, labels, distributions2, np.arange(0, 15, 3), comparison):\n",
    "    ax.hist(dist[~np.isnan(dist)], bins=20)\n",
    "    ax.axvline(x=results2[i], color='k')\n",
    "    ax.axvline(x=results2[i] - results2[i+1], color='k', linestyle='--')\n",
    "    ax.axvline(x=results2[i] + results2[i+2], color='k', linestyle='--')\n",
    "    ax.axvline(x=comparison_i, color='r', linestyle='--')\n",
    "    ax.set_xlabel(label)\n",
    "    ax.yaxis.set_visible(False)\n",
    "    ax.set_title(title.format(np.round(results2[i], 2),\n",
    "                              np.round(results2[i+1], 2),\n",
    "                              np.round(results2[i+2], 2)))\n",
    "ax1.set_xlim(-0.5,8)\n",
    "ax3.set_xlim(-0.5,8)\n",
    "plt.tight_layout()\n",
    "plt.show()"
   ]
  }
 ],
 "metadata": {
  "kernelspec": {
   "display_name": "Python 3",
   "language": "python",
   "name": "python3"
  },
  "language_info": {
   "codemirror_mode": {
    "name": "ipython",
    "version": 3
   },
   "file_extension": ".py",
   "mimetype": "text/x-python",
   "name": "python",
   "nbconvert_exporter": "python",
   "pygments_lexer": "ipython3",
   "version": "3.8.5"
  }
 },
 "nbformat": 4,
 "nbformat_minor": 2
}
