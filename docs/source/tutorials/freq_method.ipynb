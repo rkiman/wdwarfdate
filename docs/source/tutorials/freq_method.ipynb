{
 "cells": [
  {
   "cell_type": "markdown",
   "metadata": {},
   "source": [
    "Use the *freq* method to estimate a white dwarf age \n",
    "=========================================="
   ]
  },
  {
   "cell_type": "markdown",
   "metadata": {},
   "source": [
    "In this tutotial we will estima the age of two white dwarfs using the *freq* method in *wdwarfdate*. We will start by importing the packages we need."
   ]
  },
  {
   "cell_type": "code",
   "execution_count": 1,
   "metadata": {},
   "outputs": [],
   "source": [
    "import sys\n",
    "sys.path.append('/Users/rociokiman/Documents/wdwarfdate')\n",
    "import wdwarfdate  \n",
    "import numpy as np\n",
    "import time"
   ]
  },
  {
   "cell_type": "markdown",
   "metadata": {},
   "source": [
    "Then we set up the effective temperatures and surface gravity that *wdwarfdate* needs to run."
   ]
  },
  {
   "cell_type": "code",
   "execution_count": 2,
   "metadata": {},
   "outputs": [],
   "source": [
    "#Define data for the white dwarf\n",
    "teffs = np.array([19250,20250])\n",
    "teffs_err = np.array([500,850])\n",
    "loggs = np.array([8.16,8.526])\n",
    "loggs_err = np.array([0.084,0.126])"
   ]
  },
  {
   "cell_type": "markdown",
   "metadata": {},
   "source": [
    "Now we run the age estimation using the *freq* method. "
   ]
  },
  {
   "cell_type": "code",
   "execution_count": 3,
   "metadata": {},
   "outputs": [
    {
     "name": "stdout",
     "output_type": "stream",
     "text": [
      "0.28371500968933105s\n"
     ]
    },
    {
     "name": "stderr",
     "output_type": "stream",
     "text": [
      "/Users/rociokiman/Documents/wdwarfdate/wdwarfdate/wdwarfdate.py:226: RuntimeWarning: invalid value encountered in greater\n",
      "  mask = np.logical_or(np.logical_or(ms_age_dist/1e9 > 13.8,\n",
      "/Users/rociokiman/Documents/wdwarfdate/wdwarfdate/wdwarfdate.py:227: RuntimeWarning: invalid value encountered in greater\n",
      "  total_age_dist/1e9 > 13.8),\n"
     ]
    }
   ],
   "source": [
    "start = time.time()\n",
    "results = wdwarfdate.calc_wd_age(teffs,teffs_err,loggs,loggs_err,\n",
    "                                 method='freq',\n",
    "                                 model_wd='DA',feh='p0.00',vvcrit='0.0',\n",
    "                                 model_ifmr = 'Cummings_2018_MIST', \n",
    "                                 high_perc = 84, low_perc = 16,\n",
    "                                 datatype='Gyr',\n",
    "                                 path='results/',\n",
    "                                 return_distributions=True)\n",
    "end = time.time()\n",
    "print('{}s'.format(end - start))"
   ]
  },
  {
   "cell_type": "markdown",
   "metadata": {},
   "source": [
    "We explicitly added the models we wanted to use. These are the standard models so we did not need to select these, but we wrote them down to be clear. We can see that the *freq* method takes a few seconds to run two white dwarfs. Let's take a look to see how the results looks like:"
   ]
  },
  {
   "cell_type": "code",
   "execution_count": 4,
   "metadata": {},
   "outputs": [
    {
     "data": {
      "text/html": [
       "<i>Table length=2</i>\n",
       "<table id=\"table140510066187848\" class=\"table-striped table-bordered table-condensed\">\n",
       "<thead><tr><th>final_mass_median</th><th>final_mass_err_high</th><th>final_mass_err_low</th><th>initial_mass_median</th><th>initial_mass_err_high</th><th>initial_mass_err_low</th><th>cooling_age_median</th><th>cooling_age_err_high</th><th>cooling_age_err_low</th><th>ms_age_median</th><th>ms_age_err_high</th><th>ms_age_err_low</th><th>total_age_median</th><th>total_age_err_high</th><th>total_age_err_low</th><th>final_mass_dist [2000]</th><th>initial_mass_dist [2000]</th><th>cooling_age_dist [2000]</th><th>ms_age_dist [2000]</th><th>total_age_dist [2000]</th></tr></thead>\n",
       "<thead><tr><th>float64</th><th>float64</th><th>float64</th><th>float64</th><th>float64</th><th>float64</th><th>float64</th><th>float64</th><th>float64</th><th>float64</th><th>float64</th><th>float64</th><th>float64</th><th>float64</th><th>float64</th><th>float64</th><th>float64</th><th>float64</th><th>float64</th><th>float64</th></tr></thead>\n",
       "<tr><td>0.7152565648700876</td><td>0.05465009564307832</td><td>0.04949439944761369</td><td>2.828207060876095</td><td>0.30498363705527387</td><td>0.6186799930951712</td><td>0.10928932783269371</td><td>0.025090022211050722</td><td>0.018366314275263806</td><td>0.5389842415402597</td><td>0.5651653015715528</td><td>0.13122382249508258</td><td>0.6528234334010605</td><td>0.5467933433007921</td><td>0.1129147464626944</td><td>0.787588976371989 .. 0.6832643554718084</td><td>3.2277485367486047 .. 2.428304443397605</td><td>0.13405474485200808 .. 0.11658497444910074</td><td>0.37184549927247096 .. 0.8503831263936328</td><td>0.5059002441244791 .. 0.9669681008427335</td></tr>\n",
       "<tr><td>0.9451978739099629</td><td>0.07579295522494256</td><td>0.07676329863848752</td><td>4.431755830934233</td><td>0.7083453759340435</td><td>0.7174140059671728</td><td>0.19661768936844334</td><td>0.06383874254874286</td><td>0.047143873609377746</td><td>0.15665625090420376</td><td>0.09350527228484262</td><td>0.04850574277553357</td><td>0.37220285130101005</td><td>0.05106460996352569</td><td>0.03301294374606012</td><td>0.9058797212270558 .. 0.8358238781715375</td><td>4.064296460065942 .. 3.4856891880830885</td><td>0.1586301563033396 .. 0.1525671067283692</td><td>0.1963406461720172 .. 0.29820889003491063</td><td>0.35497080247535684 .. 0.4507759967632798</td></tr>\n",
       "</table>"
      ],
      "text/plain": [
       "<Table length=2>\n",
       "final_mass_median  ...           total_age_dist [2000]          \n",
       "     float64       ...                  float64                 \n",
       "------------------ ... -----------------------------------------\n",
       "0.7152565648700876 ...  0.5059002441244791 .. 0.9669681008427335\n",
       "0.9451978739099629 ... 0.35497080247535684 .. 0.4507759967632798"
      ]
     },
     "execution_count": 4,
     "metadata": {},
     "output_type": "execute_result"
    }
   ],
   "source": [
    "results"
   ]
  },
  {
   "cell_type": "code",
   "execution_count": 6,
   "metadata": {},
   "outputs": [
    {
     "data": {
      "image/png": "[encoded data removed]",
      "text/plain": [
       "<Figure size 864x216 with 5 Axes>"
      ]
     },
     "metadata": {
      "needs_background": "light"
     },
     "output_type": "display_data"
    }
   ],
   "source": [
    "wdwarfdate.plot_distributions(teffs, loggs, \n",
    "                              *results['ms_age_dist','cooling_age_dist','total_age_dist','initial_mass_dist','final_mass_dist'][0], \n",
    "                              datatype ='Gyr',high_perc=84, low_perc=16)"
   ]
  },
  {
   "cell_type": "code",
   "execution_count": null,
   "metadata": {},
   "outputs": [],
   "source": []
  }
 ],
 "metadata": {
  "kernelspec": {
   "display_name": "Python 3",
   "language": "python",
   "name": "python3"
  },
  "language_info": {
   "codemirror_mode": {
    "name": "ipython",
    "version": 3
   },
   "file_extension": ".py",
   "mimetype": "text/x-python",
   "name": "python",
   "nbconvert_exporter": "python",
   "pygments_lexer": "ipython3",
   "version": "3.7.3"
  }
 },
 "nbformat": 4,
 "nbformat_minor": 2
}
